{
 "cells": [
  {
   "cell_type": "markdown",
   "id": "a4edf798",
   "metadata": {},
   "source": [
    "#Criar um script que faça:\n",
    "#Pegue as nfe em xml do email\n",
    "#Extrai os dados necessarios \n",
    "#Tratar dados \n",
    "#Aplicador formula de taxas\n",
    "#Inserir no template da shopee"
   ]
  }
 ],
 "metadata": {
  "language_info": {
   "name": "python"
  }
 },
 "nbformat": 4,
 "nbformat_minor": 5
}
