{
 "cells": [
  {
   "cell_type": "markdown",
   "id": "a4edf798",
   "metadata": {},
   "source": [
    "#Criar um script que faça:  \n",
    "#Pegue as nfe em xml do email  \n",
    "#Extrai os dados necessarios   \n",
    "#Tratar dados   \n",
    "#Aplicador formula de taxas  \n",
    "#Inserir no template da shopee  "
   ]
  },
  {
   "cell_type": "code",
   "execution_count": null,
   "id": "cb7e382e",
   "metadata": {},
   "outputs": [
    {
     "name": "stdout",
     "output_type": "stream",
     "text": [
      "✅ NFe35250838203316000234550020001061031146706812.xml copiado para notas/Construdigi/\n",
      "✅ NFe35250804648461000207550020032778231142130220.xml copiado para notas/Construja/\n",
      "✅ 35250713571969000164550010028649071361397215-nfe-env.xml copiado para notas/MegaLeste/\n",
      "✅ NFe35250703928279000166550010003186171951331423.xml copiado para notas/M.S.B/\n",
      "✅ NFe-35250801637895026280550060001468191676462879.xml copiado para notas/Votorantim/\n"
     ]
    }
   ],
   "source": [
    "import os\n",
    "import shutil\n",
    "import xml.etree.ElementTree as ET\n",
    "\n",
    "pasta_origem = \"notas/nfes/\"\n",
    "\n",
    "# Percorre todos os arquivos da pasta\n",
    "for arquivo in os.listdir(pasta_origem):\n",
    "    if arquivo.lower().endswith(\".xml\"):\n",
    "        caminho_arquivo = os.path.join(pasta_origem, arquivo)\n",
    "\n",
    "        try:\n",
    "            # Abre e parseia o XML\n",
    "            tree = ET.parse(caminho_arquivo)\n",
    "            root = tree.getroot()\n",
    "\n",
    "            # Define namespace\n",
    "            ns = {\"ns\": \"http://www.portalfiscal.inf.br/nfe\"}\n",
    "\n",
    "            # Busca o CNPJ do emitente\n",
    "            cnpj_emitente = root.find(\".//ns:emit/ns:CNPJ\", ns)\n",
    "            cnpj_emitente\n",
    "            if cnpj_emitente is None:\n",
    "                print(f\"⚠️ CNPJ não encontrado em {arquivo}\")\n",
    "                continue\n",
    "\n",
    "            cnpj_emitente = cnpj_emitente.text\n",
    "\n",
    "            # Decide a pasta de destino com base no CNPJ\n",
    "            if cnpj_emitente == \"04648461000207\":\n",
    "                pasta_destino = \"notas/Construja/\"\n",
    "            elif cnpj_emitente == \"13571969000164\":\n",
    "                pasta_destino = \"notas/MegaLeste/\"\n",
    "            elif cnpj_emitente == '01637895026280': \n",
    "                pasta_destino = \"notas/Votorantim/\"\n",
    "            elif cnpj_emitente == \"03928279000166\":\n",
    "                pasta_destino = \"notas/M.S.B/\"\n",
    "            elif cnpj_emitente == \"38203316000234\":\n",
    "                pasta_destino = \"notas/Construdigi/\"\n",
    "            else:\n",
    "                pasta_destino = \"notas/Outros/\"\n",
    "\n",
    "            # Cria a pasta se não existir\n",
    "            os.makedirs(pasta_destino, exist_ok=True)\n",
    "\n",
    "            # Copia o arquivo para a pasta\n",
    "            shutil.move(caminho_arquivo, pasta_destino)\n",
    "\n",
    "        except Exception as e:\n",
    "            print(f\" {arquivo}: {e}\")"
   ]
  }
 ],
 "metadata": {
  "kernelspec": {
   "display_name": "venv",
   "language": "python",
   "name": "python3"
  },
  "language_info": {
   "codemirror_mode": {
    "name": "ipython",
    "version": 3
   },
   "file_extension": ".py",
   "mimetype": "text/x-python",
   "name": "python",
   "nbconvert_exporter": "python",
   "pygments_lexer": "ipython3",
   "version": "3.10.12"
  }
 },
 "nbformat": 4,
 "nbformat_minor": 5
}
